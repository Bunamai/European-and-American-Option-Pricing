{
 "cells": [
  {
   "cell_type": "markdown",
   "id": "b5b946b7-d168-4033-b06b-27b6c33d68c6",
   "metadata": {},
   "source": [
    "## Import necessary libraries"
   ]
  },
  {
   "cell_type": "code",
   "execution_count": 1,
   "id": "bcbc637d-7aa7-4840-8092-c18a4e094d8a",
   "metadata": {
    "tags": []
   },
   "outputs": [
    {
     "data": {
      "text/html": [
       "<style>.container { width:100% !important; }</style>"
      ],
      "text/plain": [
       "<IPython.core.display.HTML object>"
      ]
     },
     "metadata": {},
     "output_type": "display_data"
    }
   ],
   "source": [
    "import numpy as np\n",
    "from scipy.stats import norm\n",
    "import matplotlib.pyplot as plt\n",
    "import warnings\n",
    "warnings.filterwarnings(\"ignore\")\n",
    "\n",
    "from IPython.display import display, HTML\n",
    "display(HTML(\"<style>.container { width:100% !important; }</style>\"))"
   ]
  },
  {
   "cell_type": "markdown",
   "id": "0fd7745a-3f59-4730-9650-3061b8641390",
   "metadata": {},
   "source": [
    "## Black-Scholes Model\n",
    "<p>\n",
    "    <font size=4>\n",
    "        The Black-Scholes Model is used for pricing the Vanilla European Options, its formula is as follow:\n",
    "<p/>\n",
    "<p style='text-align: center;'>\n",
    "    <font size=4>\n",
    "        $C=S_0N(d_1)-Ke^{-rT}N(d_2)$  <br>\n",
    "        $P=Ke^{-rT}N(-d_2)-S_0N(-d_1)$  <br>\n",
    "        where $d_1=\\frac{ln\\frac{S_0}{K}+(r+\\frac{\\sigma^2}{2})T}{\\sigma\\sqrt T}$ <br>\n",
    "        $d_2=d_1-\\sigma\\sqrt T$ <br>\n",
    "        $S_0$: spot price <br>\n",
    "        $K$: strike price <br>\n",
    "        $r$: risk-free rate <br>\n",
    "        $q$: dividend yield <br>\n",
    "        $\\sigma$: annual volatility <br>\n",
    "        $T$: year-to-maturity <br>\n",
    "        $N(.)$: cdf of a standard normal\n",
    "<p/>\n",
    "<p>\n",
    "    <font size=4>\n",
    "        Note the Black-Scholes Formula is only applicable to the European Options. And it gives the most accurate value since it is an analytic formula.\n",
    "<p/>"
   ]
  },
  {
   "cell_type": "code",
   "execution_count": 5,
   "id": "76f8377d-0347-4922-8a66-16478e3b5b24",
   "metadata": {
    "tags": []
   },
   "outputs": [],
   "source": [
    "def BS_Euro_Pricer(S, K, r, q, T, sig, isCall=True):\n",
    "    \"\"\"\n",
    "    This function finds the Black Scholes price of an option\n",
    "    input:\n",
    "    S: Underlying asset spot price\n",
    "    K: Strike price\n",
    "    r: risk-free rate (if r = 4%, input 0.04)\n",
    "    q: continuous dividend yield (if q = 4%, input 0.04) \n",
    "    T: Year to maturity\n",
    "    sig: standard deviation of stock return (if sig = 20%, input 0.2)\n",
    "    isCall: True if call option, vice versa\n",
    "    \"\"\"\n",
    "    d1 = (np.log(S/K) + (r - q + (sig**2) / 2) * T) / (sig * np.sqrt(T))\n",
    "    d2 = d1 - sig * np.sqrt(T)\n",
    "    if isCall:\n",
    "        return S * np.exp(-q * T) * norm.cdf(d1) - K * np.exp(-r * T) * norm.cdf(d2)\n",
    "    else:\n",
    "        return K * np.exp(-r * T) * norm.cdf(-d2) - S * np.exp(-q * T) * norm.cdf(-d1)"
   ]
  },
  {
   "cell_type": "code",
   "execution_count": 3,
   "id": "eee313fd-e657-423a-9be4-6767ead8bece",
   "metadata": {
    "tags": []
   },
   "outputs": [
    {
     "data": {
      "text/plain": [
       "12.335998930368717"
      ]
     },
     "execution_count": 3,
     "metadata": {},
     "output_type": "execute_result"
    }
   ],
   "source": [
    "BS_Euro_Pricer(100, 100, .05, 0, 1, .25)"
   ]
  },
  {
   "cell_type": "markdown",
   "id": "1fda5cc3-3b2c-4139-8f5d-708b7fcfca7e",
   "metadata": {},
   "source": [
    "## Binomial Tree\n",
    "<p>\n",
    "    <font size=4>\n",
    "        The Binomial Tree is another model for derivative pricing. It can be used to price both European and American Options, its logic is as follow:\n",
    "<p/>\n",
    "<p style='text-align: center;'>\n",
    "    <font size=4>\n",
    "        Denote $i=1,2,...,n-1$ such that $t_i=\\frac{T}{n}i$ where $n$ is the number of steps of the tree and $T$ is the Year-to-maturity<br>\n",
    "        Denote $dt=\\frac{T}{n}$, for each $t_i$, we have $S_{t_{i+1},u}=S_{t_i}u$, and $S_{t_{i+1},d}=S_{t_i}d$  <br>\n",
    "        where $u=e^{\\sigma dt}$, $d=\\frac{1}{u}$ <br>\n",
    "        $S_{t_0}$: spot price <br>\n",
    "        $\\sigma$: annual volatility <br><br>\n",
    "        Since it is a recombinant tree, if we have $n$ steps, there will be $n+1$ terminal prices. <br>\n",
    "        Denote $k=1,2,...,n+1$ such that $S_{k,n+1}$ is the terminal price in the {k}th case <br>\n",
    "        Take European Call as example, we have $C_{k,n+1}=(S_{k,n+1}-K)^+$ where $K$ is the strike price <br>\n",
    "        Take 1 step backwards, denote $j=1,2,...,n$ such that $C_{j,n}$ is the Call price in the {j}th case at time $T-\\frac{1}{n}$ <br>\n",
    "        We have $C_{j,n}=e^{-rdt}(p_uC_{j,n+1}+p_dC_{j+1,n+1})$ <br>\n",
    "        where $p_u=\\frac{e^{(r-q)dt}-d}{u-d}$ and $p_d=1-p_u$<br>      \n",
    "        $r$: risk-free rate <br>\n",
    "        $q$: the dividend yield <br>\n",
    "        Keep computing the Call price from backwards, we can eventually get $C_0$ <br> <br>\n",
    "        For American Call, denote $c_{j,n}$ is the American Call price in the {j}th case at time $T-\\frac{1}{n}$<br>\n",
    "        Before we move 1 step backwards, we need to compute the value of early exercise $V$ and take $c_{j,n}=max(V,C_{j,n})$ <br>\n",
    "        Then, the remaining steps are same as calculating $C_0$\n",
    "<p/>\n",
    "<p>\n",
    "    <font size=4>\n",
    "        Note the Binomial Tree is applicable to the both European and American Options because it is backward looking\n",
    "<p/>"
   ]
  },
  {
   "cell_type": "code",
   "execution_count": 6,
   "id": "0933e851-6f45-42ef-8699-0cc4482578a0",
   "metadata": {},
   "outputs": [],
   "source": [
    "def Binomial_Pricer(S, K, r, q, T, sig, n, isEuropean=True, isCall=True):\n",
    "    \"\"\"\n",
    "    This function finds the Binomial price of an option\n",
    "    input:\n",
    "    S: Underlying asset spot price\n",
    "    K: Strike price\n",
    "    r: risk-free rate (if r = 4%, input 0.04)\n",
    "    q: continuous dividend yield (if q = 4%, input 0.04) \n",
    "    T: Year to maturity\n",
    "    sig: standard deviation of stock return (if sig = 20%, input 0.2)\n",
    "    n: steps of the tree\n",
    "    isEuropean: True if European option, vice versa\n",
    "    isCall: True if call option, vice versa\n",
    "    \"\"\"\n",
    "    dt = T / n # Delta t\n",
    "    u = np.exp(sig * np.sqrt(dt)) \n",
    "    d = 1 / u\n",
    "    P_u = (np.exp((r - q) * dt) - d) / (u - d)\n",
    "    P_d = 1 - P_u\n",
    "    S_T = S * (u ** np.arange(n, -1, -1)) * (d ** np.arange(0, n+1)) # Terminal values of stock price\n",
    "    \n",
    "    # Calculate call/ put payoff\n",
    "    if isCall:\n",
    "        C = np.maximum(S_T - K, np.zeros(n+1))\n",
    "    else:\n",
    "        C = np.maximum(K - S_T, np.zeros(n+1))\n",
    "    if isEuropean:\n",
    "        for i in range(n, 0, -1): # Calculate value of option from backwards, last value is 1, which is value at time 0\n",
    "            C_u = C[0:i] # Top i value\n",
    "            C_d = C[1:i+1] # Bottom i value\n",
    "            C = (P_u * C_u + P_d * C_d) / np.exp(r * dt) # nrow of C is reduced from i+1 to i, meaning fewer branches at t-1\n",
    "        return C[0]\n",
    "    else:\n",
    "        for i in range(n, 0, -1): # Calculate value of option from backwards, last value is 1, which is value at time 0\n",
    "            C_u = C[0:i] # Top i value\n",
    "            C_d = C[1:i+1] # Bottom i value\n",
    "            C = (P_u * C_u + P_d * C_d) / np.exp(r * dt) # nrow of C is reduced from i+1 to i, meaning fewer branches at t-1\n",
    "            S_T = S * (u ** np.arange(i-1, -1, -1)) * (d ** np.arange(0, i)) # Calculate all possible stock prices at time t\n",
    "            \n",
    "            # Calculate call/ put payoff\n",
    "            if isCall:\n",
    "                S_T = np.maximum(S_T - K, np.zeros(i))\n",
    "            else:\n",
    "                S_T = np.maximum(K - S_T, np.zeros(i))\n",
    "            \n",
    "            # Compare values of early exercising and holding to maturity, choose the one with higher value\n",
    "            C = np.maximum(C, S_T)\n",
    "        return C[0]"
   ]
  },
  {
   "cell_type": "code",
   "execution_count": 8,
   "id": "d5ea4ce8-2457-484b-869c-8c2e1b045962",
   "metadata": {
    "tags": []
   },
   "outputs": [
    {
     "data": {
      "text/plain": [
       "12.333527192230251"
      ]
     },
     "execution_count": 8,
     "metadata": {},
     "output_type": "execute_result"
    }
   ],
   "source": [
    "Binomial_Pricer(100, 100, .05, 0, 1, .25, 1000)"
   ]
  },
  {
   "cell_type": "markdown",
   "id": "9653f98c-7187-41e4-83e2-6e2cee1c6361",
   "metadata": {},
   "source": [
    "<p>\n",
    "    <font size=4>\n",
    "        We can see the Binomial Tree model agrees with the Black-Scholes Model\n",
    "<p/>"
   ]
  },
  {
   "cell_type": "markdown",
   "id": "43fb6740-a391-476f-86d2-545de06fbc57",
   "metadata": {
    "tags": []
   },
   "source": [
    "## Monte-Carlo Simulation\n",
    "<p>\n",
    "    <font size=4>\n",
    "        The Monte Carlo Simulation is the third way of pricing derivatives. It can be used to price exotic options as well. The motivation of Monte Carlo simulation is to simulate different paths of stock price following Geometric Brownian Motion. Then, we plug those prices into the payoff function of the derivative. Finally, we calculate the average of discounted payoff to determine the current price of that dderivative. <br><br> \n",
    "        When we are simulating the stock prices, we can use the same set of Brownian motion {$B_t$} but flip the sign of it to generate a 'mirrored' set of prices. And we can use the 'mirrored' prices to get the 'averaged' payoff: $\\frac{f(S)+f(S_{mirrored}  )}{2}$. This is called the 'Antithetic' method and it can decrease the variance of estimated derivative price. <br><br>\n",
    "        The process of simulating stock prices from $t_i$ to $t_{i+1}$ is as follow:\n",
    "<p/>\n",
    "<p style='text-align: center;'>\n",
    "    <font size=4>\n",
    "        The stock price follows Geometric Brownian motion where <br>\n",
    "        $dS_t=\\mu S_tdt+\\sigma S_tdB_t$ <br>\n",
    "        and $S_{t_{i+1}}=S_{t_i}e^{(r-\\frac{\\sigma^2}{2})t+\\sigma B_t}$ <br>\n",
    "        where $t=\\frac{T}{n}$, $T$ is the Year-to-maturity, $n$ is the simulating frequency per year (252 for daily) <br>\n",
    "        $r$: risk-free rate <br>\n",
    "        $\\sigma$: annual volatility <br>\n",
    "        $B_t$: Brownian Motion following $N(0,t)$\n",
    "<p/>\n",
    "<p>\n",
    "    <font size=4>\n",
    "        Note we cannot price American Option using Monte-Carlo because it is forward looking.\n",
    "<p/>"
   ]
  },
  {
   "cell_type": "code",
   "execution_count": 23,
   "id": "748c1f4c-6d1a-4b8c-b7dc-cf94bbbb0c23",
   "metadata": {
    "tags": []
   },
   "outputs": [],
   "source": [
    "def Monte_Carlo_Pricer(S, K, r, T, sig, n, seed=0, isCall=True):\n",
    "    \"\"\"\n",
    "    This function finds the European option prices using Monte-Carlo Simulation\n",
    "    input:\n",
    "    S: Underlying asset spot price\n",
    "    K: Strike price\n",
    "    r: risk-free rate (if r = 4%, input 0.04)\n",
    "    T: Trading day to maturity\n",
    "    sig: standard deviation of stock return (if sig = 20%, input 0.2)\n",
    "    n: number of path\n",
    "    seed: random seed when generating the Brownian Motion\n",
    "    isCall: True if call option, vice versa\n",
    "    \"\"\"\n",
    "    np.random.seed(seed) # For getting same S_T for different trials\n",
    "    Z_T = np.random.normal(0, 1, (n, T)) # Generate random normal variables with size 1000 x n\n",
    "    Z_T_M = -Z_T # Reflect the Z_T for mirrored stock price\n",
    "\n",
    "    dt = 1 / 252 # 252 trading days per year \n",
    "    t = np.tile(dt, (n, T)) # Create a 1000 x n matrix where all entries are dt\n",
    "\n",
    "    W_t = Z_T * np.sqrt(dt) # Compute W_t for each price movement\n",
    "    W_t_M = Z_T_M * np.sqrt(dt) # Compute W_t_M for each price movement\n",
    "    \n",
    "    index = (r - (sig**2)/2) * t + sig * W_t # Compute the index for each S(t_j+1) / S(t_j)\n",
    "    Index = np.cumsum(index, axis=1) # Accumulate each index up to time t \n",
    "    index_M = (r - (sig**2)/2) * t + sig * W_t_M # Compute the index for each Mirrored S(t_j+1) / S(t_j)\n",
    "    Index_M = np.cumsum(index_M, axis=1) # Accumulate each index_M up to time t \n",
    "\n",
    "    S_T = S * np.exp(Index) # Compute S_T\n",
    "    S_T_M = S * np.exp(Index_M) # Compute Mirrored S_T\n",
    "    \n",
    "    last_S_T = S_T[:, -1] # Get the last value of S_T for each path\n",
    "    last_S_T_M = S_T_M[:, -1] # Get the last value of S_T_M for each path\n",
    "    if isCall:\n",
    "        Payoff = np.maximum(last_S_T-K, 0)\n",
    "        Payoff_M = np.maximum(last_S_T_M-K, 0)\n",
    "    else:\n",
    "        Payoff = np.maximum(K-last_S_T, 0)\n",
    "        Payoff_M = np.maximum(K-last_S_T_M, 0)\n",
    "    V = np.mean(np.exp(-r*T/252)*(Payoff+Payoff_M)/2)\n",
    "    return V"
   ]
  },
  {
   "cell_type": "code",
   "execution_count": 22,
   "id": "4f2fcd5e-66eb-4e36-8dc3-ea6477620408",
   "metadata": {
    "tags": []
   },
   "outputs": [
    {
     "data": {
      "text/plain": [
       "12.335719057287816"
      ]
     },
     "execution_count": 22,
     "metadata": {},
     "output_type": "execute_result"
    }
   ],
   "source": [
    "Monte_Carlo_Pricer(100, 100, .05, 252, .25, 100000)"
   ]
  },
  {
   "cell_type": "markdown",
   "id": "bf1e401d-2a14-42b9-b6cf-c4e3f045fc13",
   "metadata": {},
   "source": [
    "<p>\n",
    "    <font size=4>\n",
    "        Here we can see the Monte-Carlo agrees with Black-Scholes Model if number of path is sufficiently large.\n",
    "<p/>"
   ]
  }
 ],
 "metadata": {
  "kernelspec": {
   "display_name": "Python 3 (ipykernel)",
   "language": "python",
   "name": "python3"
  },
  "language_info": {
   "codemirror_mode": {
    "name": "ipython",
    "version": 3
   },
   "file_extension": ".py",
   "mimetype": "text/x-python",
   "name": "python",
   "nbconvert_exporter": "python",
   "pygments_lexer": "ipython3",
   "version": "3.11.5"
  }
 },
 "nbformat": 4,
 "nbformat_minor": 5
}
